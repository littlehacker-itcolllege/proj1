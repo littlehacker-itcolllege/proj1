{
  "nbformat": 4,
  "nbformat_minor": 0,
  "metadata": {
    "colab": {
      "name": "paiza",
      "version": "0.3.2",
      "provenance": [],
      "include_colab_link": true
    },
    "kernelspec": {
      "name": "python3",
      "display_name": "Python 3"
    }
  },
  "cells": [
    {
      "cell_type": "markdown",
      "metadata": {
        "id": "view-in-github",
        "colab_type": "text"
      },
      "source": [
        "<a href=\"https://colab.research.google.com/github/littlehacker-itcolllege/proj1/blob/master/paiza.ipynb\" target=\"_parent\"><img src=\"https://colab.research.google.com/assets/colab-badge.svg\" alt=\"Open In Colab\"/></a>"
      ]
    },
    {
      "metadata": {
        "id": "Y-4rHA1BkaOU",
        "colab_type": "code",
        "colab": {
          "base_uri": "https://localhost:8080/",
          "height": 179
        },
        "outputId": "92bbad4e-fd3f-4da7-ade5-f8123b5af02b"
      },
      "cell_type": "code",
      "source": [
        "N=int(input())\n",
        "list=[input().split() for i in range(N)]\n",
        "count_a=0\n",
        "count_b=0\n",
        "\n",
        "for i in range(N):\n",
        "  a=list[i][0]\n",
        "  b=list[i][1]\n",
        "  if a=='g' and b=='c' or a=='c' and b=='p' or a=='p' and b=='g':\n",
        "    count_a+=1\n",
        "  elif b=='g' and a=='c' or b=='c' and a=='p' or b=='p' and a=='g':\n",
        "    count_b+=1\n",
        "  else:\n",
        "    count_a+=0\n",
        "    count_b+=0\n",
        "print(count_a)\n",
        "print(count_b)"
      ],
      "execution_count": 83,
      "outputs": [
        {
          "output_type": "stream",
          "text": [
            "3\n",
            "g g\n",
            "c p\n",
            "p g\n",
            "[['g', 'g'], ['c', 'p'], ['p', 'g']]\n",
            "[['g', 'g'], ['c', 'p'], ['p', 'g']]\n",
            "[['g', 'g'], ['c', 'p'], ['p', 'g']]\n",
            "2\n",
            "0\n"
          ],
          "name": "stdout"
        }
      ]
    },
    {
      "metadata": {
        "id": "4oLnrgsdkhQB",
        "colab_type": "code",
        "colab": {}
      },
      "cell_type": "code",
      "source": [
        ""
      ],
      "execution_count": 0,
      "outputs": []
    }
  ]
}